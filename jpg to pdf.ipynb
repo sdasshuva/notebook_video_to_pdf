{
 "cells": [
  {
   "cell_type": "code",
   "execution_count": null,
   "id": "e8be3f8f",
   "metadata": {},
   "outputs": [],
   "source": [
    "#pip install pgmagick"
   ]
  },
  {
   "cell_type": "code",
   "execution_count": null,
   "id": "af2aa319",
   "metadata": {},
   "outputs": [],
   "source": [
    "#pip install img2pdf"
   ]
  },
  {
   "cell_type": "code",
   "execution_count": 3,
   "id": "ce6302b2",
   "metadata": {},
   "outputs": [],
   "source": [
    "name= \"H:\\\\Coding books\\\\Applied\\Applied\\\\1. Course Preview\\\\1. Preview.pdf\";"
   ]
  },
  {
   "cell_type": "code",
   "execution_count": 4,
   "id": "7d854ca4",
   "metadata": {},
   "outputs": [],
   "source": [
    "# convert all files matching a glob\n",
    "import img2pdf\n",
    "import glob\n",
    "with open(name,\"wb\") as f:\n",
    "    f.write(img2pdf.convert(glob.glob(\"C:\\\\Users\\\\sdass\\\\Pictures\\\\FreeVideoToJPGConverter\\\\1. Python for data mining\\\\*.jpg\")))"
   ]
  },
  {
   "cell_type": "code",
   "execution_count": null,
   "id": "2d410121",
   "metadata": {},
   "outputs": [],
   "source": [
    "name= \"H:\\\\Coding books\\\\Applied\\Applied\\\\1. Course Preview\\\\1. Preview.pdf\";"
   ]
  }
 ],
 "metadata": {
  "kernelspec": {
   "display_name": "Python 3 (ipykernel)",
   "language": "python",
   "name": "python3"
  },
  "language_info": {
   "codemirror_mode": {
    "name": "ipython",
    "version": 3
   },
   "file_extension": ".py",
   "mimetype": "text/x-python",
   "name": "python",
   "nbconvert_exporter": "python",
   "pygments_lexer": "ipython3",
   "version": "3.9.7"
  }
 },
 "nbformat": 4,
 "nbformat_minor": 5
}
