{
 "cells": [
  {
   "cell_type": "code",
   "execution_count": 1,
   "id": "2ea25635",
   "metadata": {},
   "outputs": [],
   "source": [
    "import os\n",
    "import cv2\n",
    "import numpy as np\n",
    "from tqdm import tqdm\n",
    "import math\n",
    "import matplotlib.pyplot as plt"
   ]
  },
  {
   "cell_type": "code",
   "execution_count": 2,
   "id": "c4f777d4",
   "metadata": {},
   "outputs": [],
   "source": [
    "def get_hash(fpath, hash_length):\n",
    "    dim = int(math.sqrt(hash_length))+1    \n",
    "    r_str=''    \n",
    "    img=cv2.imread(fpath,0)        # read image as gray scale image\n",
    "    img=cv2.resize(img, (dim,dim), interpolation = cv2.INTER_NEAREST)\n",
    "    img=img.flatten()\n",
    "    list2=list(img) \n",
    "    for col in range (0,len(list2)-1):\n",
    "        if(list2[col]>list2[col+1]):\n",
    "            value=str(1)\n",
    "        else:\n",
    "            value=str(0)\n",
    "        r_str=r_str + value   \n",
    "    return r_str"
   ]
  },
  {
   "cell_type": "code",
   "execution_count": 3,
   "id": "65f49f5c",
   "metadata": {},
   "outputs": [],
   "source": [
    "def match(value1, value2, difference):\n",
    "    length=len(value1)\n",
    "    mismatch=0\n",
    "    for i in range(0, length):\n",
    "        if value1[i] !=value2[i]:\n",
    "            mismatch = mismatch  + 1\n",
    "            if mismatch>difference:\n",
    "                return False\n",
    "    return True"
   ]
  },
  {
   "cell_type": "code",
   "execution_count": 4,
   "id": "e91a22f7",
   "metadata": {},
   "outputs": [],
   "source": [
    "def find_duplicates(hash_dict, difference):\n",
    "    dup_dict={}\n",
    "    key_list=[]\n",
    "    for key,value in tqdm(hash_dict.items()):\n",
    "        dup_list=[]\n",
    "        for key2,value2 in hash_dict.items():\n",
    "            if key != key2 and key not in key_list and key2 not in key_list:\n",
    "                if match(value,value2,difference):\n",
    "                    dup_list.append(key2)\n",
    "                    dup_dict[key]=dup_list\n",
    "                    if key2 not in key_list:\n",
    "                        key_list.append(key2)                    \n",
    "        if key not in key_list:\n",
    "            key_list.append(key)\n",
    "        \n",
    "        #print('key="
   ]
  },
  {
   "cell_type": "code",
   "execution_count": 5,
   "id": "5dd0551a",
   "metadata": {},
   "outputs": [],
   "source": [
    "def find_duplicate(source_dir,distance):\n",
    "    sense_list=[0, 3,6,9,12,21,27,32,45,64] \n",
    "    difference=sense_list[sensitivity] # hash length is 256 if there are less than distance differences in the hash\n",
    "    # then images are considered duplicates\n",
    "    hash_length= 256\n",
    "    f_list=[] # will be a list of files ( full path) that are not duplicates of each other\n",
    "    duplicate_files_list = [] # will contain a list of duplicate filepaths\n",
    "    dup_list =[] # list of files that are duplicates of files in f_list\n",
    "    class_list= os.listdir(source_dir)    \n",
    "    for klass in class_list: # iterate through classes \n",
    "        class_path=os.path.join (source_dir, klass)\n",
    "        if os.path.isdir(class_path):\n",
    "            flist=os.listdir(class_path)\n",
    "            for f in flist:\n",
    "                fpath=os.path.join(class_path,f)\n",
    "                f_list.append(fpath) # list of all filepaths in the source_dir\n",
    "        else:\n",
    "            for f in class_list:\n",
    "                fpath=os.path.join(source_dir,f)\n",
    "                f_list.append(fpath)\n",
    "            break\n",
    "    hash_dict={}\n",
    "    for fpath in tqdm(f_list): # iterate through the list of filepaths\n",
    "        hash_dict[fpath]=get_hash(fpath,hash_length)  # store the hash in a dictionary with key-filepath and value=hash\n",
    "    # now go the dictionary and create a new dictionary of duplicate files\n",
    "    # dup_dict the key is a fileppath and the values are filepaths of images that are duplicates of the key filepath\n",
    "    dup_dict=find_duplicates(hash_dict, difference)\n",
    "    if len(dup_dict)<1:\n",
    "        print('No duplicate images were found in ', source_dir, '\\n')            \n",
    "    else:\n",
    "        dup_count = 0\n",
    "        for key, values in dup_dict.items():\n",
    "            dup_count += len(values) \n",
    "            for fpath in values:\n",
    "                f_list.remove(fpath)\n",
    "                duplicate_files_list.append(fpath)\n",
    "                \n",
    "        print('\\n', dup_count, ' duplicate images were detected and removed from the list of good_files')\n",
    "        #print (dup_dict)\n",
    "    return f_list, duplicate_files_list  "
   ]
  },
  {
   "cell_type": "code",
   "execution_count": null,
   "id": "b9127422",
   "metadata": {},
   "outputs": [],
   "source": []
  }
 ],
 "metadata": {
  "kernelspec": {
   "display_name": "Python 3 (ipykernel)",
   "language": "python",
   "name": "python3"
  },
  "language_info": {
   "codemirror_mode": {
    "name": "ipython",
    "version": 3
   },
   "file_extension": ".py",
   "mimetype": "text/x-python",
   "name": "python",
   "nbconvert_exporter": "python",
   "pygments_lexer": "ipython3",
   "version": "3.9.7"
  }
 },
 "nbformat": 4,
 "nbformat_minor": 5
}
